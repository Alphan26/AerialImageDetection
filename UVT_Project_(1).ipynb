{
  "cells": [
    {
      "cell_type": "code",
      "execution_count": 36,
      "id": "084f67ce-8b51-4ca6-8340-c509440e93c2",
      "metadata": {
        "id": "084f67ce-8b51-4ca6-8340-c509440e93c2"
      },
      "outputs": [],
      "source": [
        "import requests"
      ]
    },
    {
      "cell_type": "code",
      "execution_count": 37,
      "id": "f6a77cdf-d3f5-4212-9be6-82d8c650c769",
      "metadata": {
        "colab": {
          "base_uri": "https://localhost:8080/"
        },
        "id": "f6a77cdf-d3f5-4212-9be6-82d8c650c769",
        "outputId": "f9a492d1-636e-4e4a-bfc4-7e119fec697e"
      },
      "outputs": [
        {
          "output_type": "stream",
          "name": "stdout",
          "text": [
            "Requirement already satisfied: gdown in /usr/local/lib/python3.10/dist-packages (5.2.0)\n",
            "Requirement already satisfied: beautifulsoup4 in /usr/local/lib/python3.10/dist-packages (from gdown) (4.12.3)\n",
            "Requirement already satisfied: filelock in /usr/local/lib/python3.10/dist-packages (from gdown) (3.16.1)\n",
            "Requirement already satisfied: requests[socks] in /usr/local/lib/python3.10/dist-packages (from gdown) (2.32.3)\n",
            "Requirement already satisfied: tqdm in /usr/local/lib/python3.10/dist-packages (from gdown) (4.66.5)\n",
            "Requirement already satisfied: soupsieve>1.2 in /usr/local/lib/python3.10/dist-packages (from beautifulsoup4->gdown) (2.6)\n",
            "Requirement already satisfied: charset-normalizer<4,>=2 in /usr/local/lib/python3.10/dist-packages (from requests[socks]->gdown) (3.3.2)\n",
            "Requirement already satisfied: idna<4,>=2.5 in /usr/local/lib/python3.10/dist-packages (from requests[socks]->gdown) (3.10)\n",
            "Requirement already satisfied: urllib3<3,>=1.21.1 in /usr/local/lib/python3.10/dist-packages (from requests[socks]->gdown) (2.2.3)\n",
            "Requirement already satisfied: certifi>=2017.4.17 in /usr/local/lib/python3.10/dist-packages (from requests[socks]->gdown) (2024.8.30)\n",
            "Requirement already satisfied: PySocks!=1.5.7,>=1.5.6 in /usr/local/lib/python3.10/dist-packages (from requests[socks]->gdown) (1.7.1)\n"
          ]
        }
      ],
      "source": [
        "!pip install gdown"
      ]
    },
    {
      "cell_type": "code",
      "source": [
        "!git clone https://github.com/ultralytics/yolov5"
      ],
      "metadata": {
        "colab": {
          "base_uri": "https://localhost:8080/"
        },
        "id": "8SZBb_ZO_Sp6",
        "outputId": "90c1c94f-8b39-4012-af78-ccb4f36209b5"
      },
      "id": "8SZBb_ZO_Sp6",
      "execution_count": 38,
      "outputs": [
        {
          "output_type": "stream",
          "name": "stdout",
          "text": [
            "Cloning into 'yolov5'...\n",
            "remote: Enumerating objects: 16977, done.\u001b[K\n",
            "remote: Counting objects: 100% (172/172), done.\u001b[K\n",
            "remote: Compressing objects: 100% (118/118), done.\u001b[K\n",
            "remote: Total 16977 (delta 89), reused 110 (delta 54), pack-reused 16805 (from 1)\u001b[K\n",
            "Receiving objects: 100% (16977/16977), 15.71 MiB | 17.13 MiB/s, done.\n",
            "Resolving deltas: 100% (11627/11627), done.\n"
          ]
        }
      ]
    },
    {
      "cell_type": "code",
      "source": [
        "%cd yolov5/\n"
      ],
      "metadata": {
        "colab": {
          "base_uri": "https://localhost:8080/"
        },
        "id": "YuxmihwrAIXI",
        "outputId": "d9e68eb0-eda8-42ec-d19a-b440e5a4872a"
      },
      "id": "YuxmihwrAIXI",
      "execution_count": 39,
      "outputs": [
        {
          "output_type": "stream",
          "name": "stdout",
          "text": [
            "/content/yolov5/yolov5/yolov5\n"
          ]
        }
      ]
    },
    {
      "cell_type": "code",
      "source": [
        "!pwd"
      ],
      "metadata": {
        "colab": {
          "base_uri": "https://localhost:8080/"
        },
        "id": "NlICc3yDL5Kz",
        "outputId": "69fc4a59-9af6-4b56-9ca0-aa9b363f38e0"
      },
      "id": "NlICc3yDL5Kz",
      "execution_count": 40,
      "outputs": [
        {
          "output_type": "stream",
          "name": "stdout",
          "text": [
            "/content/yolov5/yolov5/yolov5\n"
          ]
        }
      ]
    },
    {
      "cell_type": "code",
      "source": [
        "!pip install -r requirements.txt"
      ],
      "metadata": {
        "colab": {
          "base_uri": "https://localhost:8080/"
        },
        "id": "5Nv3T4XaAPdF",
        "outputId": "540439c5-2afb-4cbd-94c8-87a79ae5560e"
      },
      "id": "5Nv3T4XaAPdF",
      "execution_count": 41,
      "outputs": [
        {
          "output_type": "stream",
          "name": "stdout",
          "text": [
            "Requirement already satisfied: gitpython>=3.1.30 in /usr/local/lib/python3.10/dist-packages (from -r requirements.txt (line 5)) (3.1.43)\n",
            "Requirement already satisfied: matplotlib>=3.3 in /usr/local/lib/python3.10/dist-packages (from -r requirements.txt (line 6)) (3.7.1)\n",
            "Requirement already satisfied: numpy>=1.23.5 in /usr/local/lib/python3.10/dist-packages (from -r requirements.txt (line 7)) (1.26.4)\n",
            "Requirement already satisfied: opencv-python>=4.1.1 in /usr/local/lib/python3.10/dist-packages (from -r requirements.txt (line 8)) (4.10.0.84)\n",
            "Requirement already satisfied: pillow>=10.3.0 in /usr/local/lib/python3.10/dist-packages (from -r requirements.txt (line 9)) (10.4.0)\n",
            "Requirement already satisfied: psutil in /usr/local/lib/python3.10/dist-packages (from -r requirements.txt (line 10)) (5.9.5)\n",
            "Requirement already satisfied: PyYAML>=5.3.1 in /usr/local/lib/python3.10/dist-packages (from -r requirements.txt (line 11)) (6.0.2)\n",
            "Requirement already satisfied: requests>=2.32.2 in /usr/local/lib/python3.10/dist-packages (from -r requirements.txt (line 12)) (2.32.3)\n",
            "Requirement already satisfied: scipy>=1.4.1 in /usr/local/lib/python3.10/dist-packages (from -r requirements.txt (line 13)) (1.13.1)\n",
            "Requirement already satisfied: thop>=0.1.1 in /usr/local/lib/python3.10/dist-packages (from -r requirements.txt (line 14)) (0.1.1.post2209072238)\n",
            "Requirement already satisfied: torch>=1.8.0 in /usr/local/lib/python3.10/dist-packages (from -r requirements.txt (line 15)) (2.4.1+cu121)\n",
            "Requirement already satisfied: torchvision>=0.9.0 in /usr/local/lib/python3.10/dist-packages (from -r requirements.txt (line 16)) (0.19.1+cu121)\n",
            "Requirement already satisfied: tqdm>=4.66.3 in /usr/local/lib/python3.10/dist-packages (from -r requirements.txt (line 17)) (4.66.5)\n",
            "Requirement already satisfied: ultralytics>=8.2.34 in /usr/local/lib/python3.10/dist-packages (from -r requirements.txt (line 18)) (8.3.8)\n",
            "Requirement already satisfied: pandas>=1.1.4 in /usr/local/lib/python3.10/dist-packages (from -r requirements.txt (line 27)) (2.2.2)\n",
            "Requirement already satisfied: seaborn>=0.11.0 in /usr/local/lib/python3.10/dist-packages (from -r requirements.txt (line 28)) (0.13.1)\n",
            "Requirement already satisfied: setuptools>=70.0.0 in /usr/local/lib/python3.10/dist-packages (from -r requirements.txt (line 42)) (71.0.4)\n",
            "Requirement already satisfied: gitdb<5,>=4.0.1 in /usr/local/lib/python3.10/dist-packages (from gitpython>=3.1.30->-r requirements.txt (line 5)) (4.0.11)\n",
            "Requirement already satisfied: contourpy>=1.0.1 in /usr/local/lib/python3.10/dist-packages (from matplotlib>=3.3->-r requirements.txt (line 6)) (1.3.0)\n",
            "Requirement already satisfied: cycler>=0.10 in /usr/local/lib/python3.10/dist-packages (from matplotlib>=3.3->-r requirements.txt (line 6)) (0.12.1)\n",
            "Requirement already satisfied: fonttools>=4.22.0 in /usr/local/lib/python3.10/dist-packages (from matplotlib>=3.3->-r requirements.txt (line 6)) (4.54.1)\n",
            "Requirement already satisfied: kiwisolver>=1.0.1 in /usr/local/lib/python3.10/dist-packages (from matplotlib>=3.3->-r requirements.txt (line 6)) (1.4.7)\n",
            "Requirement already satisfied: packaging>=20.0 in /usr/local/lib/python3.10/dist-packages (from matplotlib>=3.3->-r requirements.txt (line 6)) (24.1)\n",
            "Requirement already satisfied: pyparsing>=2.3.1 in /usr/local/lib/python3.10/dist-packages (from matplotlib>=3.3->-r requirements.txt (line 6)) (3.1.4)\n",
            "Requirement already satisfied: python-dateutil>=2.7 in /usr/local/lib/python3.10/dist-packages (from matplotlib>=3.3->-r requirements.txt (line 6)) (2.8.2)\n",
            "Requirement already satisfied: charset-normalizer<4,>=2 in /usr/local/lib/python3.10/dist-packages (from requests>=2.32.2->-r requirements.txt (line 12)) (3.3.2)\n",
            "Requirement already satisfied: idna<4,>=2.5 in /usr/local/lib/python3.10/dist-packages (from requests>=2.32.2->-r requirements.txt (line 12)) (3.10)\n",
            "Requirement already satisfied: urllib3<3,>=1.21.1 in /usr/local/lib/python3.10/dist-packages (from requests>=2.32.2->-r requirements.txt (line 12)) (2.2.3)\n",
            "Requirement already satisfied: certifi>=2017.4.17 in /usr/local/lib/python3.10/dist-packages (from requests>=2.32.2->-r requirements.txt (line 12)) (2024.8.30)\n",
            "Requirement already satisfied: filelock in /usr/local/lib/python3.10/dist-packages (from torch>=1.8.0->-r requirements.txt (line 15)) (3.16.1)\n",
            "Requirement already satisfied: typing-extensions>=4.8.0 in /usr/local/lib/python3.10/dist-packages (from torch>=1.8.0->-r requirements.txt (line 15)) (4.12.2)\n",
            "Requirement already satisfied: sympy in /usr/local/lib/python3.10/dist-packages (from torch>=1.8.0->-r requirements.txt (line 15)) (1.13.3)\n",
            "Requirement already satisfied: networkx in /usr/local/lib/python3.10/dist-packages (from torch>=1.8.0->-r requirements.txt (line 15)) (3.3)\n",
            "Requirement already satisfied: jinja2 in /usr/local/lib/python3.10/dist-packages (from torch>=1.8.0->-r requirements.txt (line 15)) (3.1.4)\n",
            "Requirement already satisfied: fsspec in /usr/local/lib/python3.10/dist-packages (from torch>=1.8.0->-r requirements.txt (line 15)) (2024.6.1)\n",
            "Requirement already satisfied: py-cpuinfo in /usr/local/lib/python3.10/dist-packages (from ultralytics>=8.2.34->-r requirements.txt (line 18)) (9.0.0)\n",
            "Requirement already satisfied: ultralytics-thop>=2.0.0 in /usr/local/lib/python3.10/dist-packages (from ultralytics>=8.2.34->-r requirements.txt (line 18)) (2.0.9)\n",
            "Requirement already satisfied: pytz>=2020.1 in /usr/local/lib/python3.10/dist-packages (from pandas>=1.1.4->-r requirements.txt (line 27)) (2024.2)\n",
            "Requirement already satisfied: tzdata>=2022.7 in /usr/local/lib/python3.10/dist-packages (from pandas>=1.1.4->-r requirements.txt (line 27)) (2024.2)\n",
            "Requirement already satisfied: smmap<6,>=3.0.1 in /usr/local/lib/python3.10/dist-packages (from gitdb<5,>=4.0.1->gitpython>=3.1.30->-r requirements.txt (line 5)) (5.0.1)\n",
            "Requirement already satisfied: six>=1.5 in /usr/local/lib/python3.10/dist-packages (from python-dateutil>=2.7->matplotlib>=3.3->-r requirements.txt (line 6)) (1.16.0)\n",
            "Requirement already satisfied: MarkupSafe>=2.0 in /usr/local/lib/python3.10/dist-packages (from jinja2->torch>=1.8.0->-r requirements.txt (line 15)) (2.1.5)\n",
            "Requirement already satisfied: mpmath<1.4,>=1.1.0 in /usr/local/lib/python3.10/dist-packages (from sympy->torch>=1.8.0->-r requirements.txt (line 15)) (1.3.0)\n"
          ]
        }
      ]
    },
    {
      "cell_type": "code",
      "execution_count": null,
      "id": "0ba3a1aa-5c1f-41d5-9909-8f54c148dca6",
      "metadata": {
        "colab": {
          "base_uri": "https://localhost:8080/"
        },
        "id": "0ba3a1aa-5c1f-41d5-9909-8f54c148dca6",
        "outputId": "fd832589-6f03-40b1-80a9-c78c250b227a"
      },
      "outputs": [
        {
          "output_type": "stream",
          "name": "stderr",
          "text": [
            "Downloading...\n",
            "From (original): https://drive.google.com/uc?id=1BlaGYNNEKGmT6OjZjsJ8HoUYrTTmFcO2\n",
            "From (redirected): https://drive.google.com/uc?id=1BlaGYNNEKGmT6OjZjsJ8HoUYrTTmFcO2&confirm=t&uuid=de518a2c-9a43-488b-bad5-7b9f7844a0fd\n",
            "To: /content/yolov5/yolov5/yolov5/part1.zip\n",
            "100%|██████████| 2.13G/2.13G [01:20<00:00, 26.5MB/s]\n",
            "Downloading...\n",
            "From (original): https://drive.google.com/uc?id=1JBWCHdyZOd9ULX0ng5C9haAt3FMPXa3v\n",
            "From (redirected): https://drive.google.com/uc?id=1JBWCHdyZOd9ULX0ng5C9haAt3FMPXa3v&confirm=t&uuid=84c16a45-69b2-4e48-b2f8-b2f23efb4a0f\n",
            "To: /content/yolov5/yolov5/yolov5/part2.zip\n",
            "100%|██████████| 4.76G/4.76G [02:31<00:00, 31.4MB/s]\n",
            "Downloading...\n",
            "From (original): https://drive.google.com/uc?id=1pEmwJtugIWhiwgBqOtplNUtTG2T454zn\n",
            "From (redirected): https://drive.google.com/uc?id=1pEmwJtugIWhiwgBqOtplNUtTG2T454zn&confirm=t&uuid=4a1c8d07-91d9-42fc-b881-9cf17ba6a315\n",
            "To: /content/yolov5/yolov5/yolov5/part3.zip\n",
            " 48%|████▊     | 1.59G/3.32G [00:59<01:37, 17.7MB/s]"
          ]
        }
      ],
      "source": [
        "import gdown\n",
        "import os\n",
        "import zipfile\n",
        "\n",
        "# Trainimng files ids\n",
        "file_id = '1BlaGYNNEKGmT6OjZjsJ8HoUYrTTmFcO2'\n",
        "file_id2  = '1JBWCHdyZOd9ULX0ng5C9haAt3FMPXa3v'\n",
        "file_id3 = '1pEmwJtugIWhiwgBqOtplNUtTG2T454zn'\n",
        "\n",
        "# Validation files ids\n",
        "file_id4 = '1uCCCFhFQOJLfjBpcL5MC0DHJ9lgOaXWP'\n",
        "\n",
        "# Test files ids\n",
        "file_id5 = '1fwiTNqRRen09E-O9VSpcMV2e6_d4GGVK'\n",
        "file_id6 = '1wTwmxvPVujh1I6mCMreoKURxCUI8f-qv'\n",
        "\n",
        "# Training output\n",
        "output = 'part1.zip'\n",
        "output2 = 'part2.zip'\n",
        "output3 = 'part3.zip'\n",
        "\n",
        "# Validation output\n",
        "output4 = 'part1.zip'\n",
        "\n",
        "# Test output\n",
        "output5 = 'part1.zip'\n",
        "output6 = 'part2.zip'\n",
        "\n",
        "# Training files download\n",
        "gdown.download(f'https://drive.google.com/uc?id={file_id}',output, quiet = False)\n",
        "gdown.download(f'https://drive.google.com/uc?id={file_id2}',output2, quiet = False)\n",
        "gdown.download(f'https://drive.google.com/uc?id={file_id3}',output3, quiet = False)\n",
        "\n",
        "# Validation files download\n",
        "gdown.download(f'https://drive.google.com/uc?id={file_id4}',output4, quiet = False)\n",
        "\n",
        "# Test files download\n",
        "gdown.download(f'https://drive.google.com/uc?id={file_id5}',output5, quiet = False)\n",
        "gdown.download(f'https://drive.google.com/uc?id={file_id6}',output6, quiet = False)\n",
        "\n",
        "extract_dir = 'extracted_files'\n",
        "sub_fol_tr = 'training'\n",
        "sub_fol_val = 'validation'\n",
        "sub_fol_test = 'testing'\n",
        "\n",
        "tr_path = os.path.join(extract_dir,sub_fol_tr)\n",
        "val_path = os.path.join(extract_dir,sub_fol_val)\n",
        "test_path = os.path.join(extract_dir,sub_fol_test)\n",
        "\n",
        "os.makedirs(extract_dir, exist_ok=True)\n",
        "os.makedirs(tr_path, exist_ok = True)\n",
        "os.makedirs(val_path, exist_ok = True)\n",
        "os.makedirs(test_path, exist_ok = True)\n",
        "\n",
        "# Training path\n",
        "with zipfile.ZipFile(output,'r') as zip_ref:\n",
        "    zip_ref.extractall(tr_path)\n",
        "\n",
        "with zipfile.ZipFile(output2,'r') as zip_ref:\n",
        "    zip_ref.extractall(tr_path)\n",
        "\n",
        "with zipfile.ZipFile(output3,'r') as zip_ref:\n",
        "    zip_ref.extractall(tr_path)\n",
        "\n",
        "# Validation path\n",
        "\n",
        "with zipfile.ZipFile(output4,'r') as zip_ref:\n",
        "    zip_ref.extractall(val_path)\n",
        "\n",
        "# Test path\n",
        "\n",
        "with zipfile.ZipFile(output5,'r') as zip_ref:\n",
        "    zip_ref.extractall(test_path)\n",
        "\n",
        "with zipfile.ZipFile(output6,'r') as zip_ref:\n",
        "    zip_ref.extractall(test_path)\n",
        "\n",
        "print('All files are extracted')"
      ]
    },
    {
      "cell_type": "code",
      "execution_count": null,
      "id": "a7df7f16-5902-4236-9d69-199e99818c7d",
      "metadata": {
        "id": "a7df7f16-5902-4236-9d69-199e99818c7d"
      },
      "outputs": [],
      "source": [
        "training_images = os.listdir('extracted_files/training/images')\n",
        "validation_images = os.listdir('extracted_files/validation/images')\n",
        "testing_images = os.listdir('extracted_files/testing/images')\n",
        "\n",
        "print(len(training_images))\n",
        "print(len(validation_images))\n",
        "print(len(testing_images))"
      ]
    },
    {
      "cell_type": "code",
      "execution_count": null,
      "id": "f970a5a9-1120-4085-ba72-e28de91cd168",
      "metadata": {
        "id": "f970a5a9-1120-4085-ba72-e28de91cd168"
      },
      "outputs": [],
      "source": [
        "# Show the images\n",
        "from PIL import Image\n",
        "\n",
        "img = Image.open('extracted_files/training/images/P2806.png')\n",
        "img.show()"
      ]
    },
    {
      "cell_type": "code",
      "execution_count": null,
      "id": "04158652-3e37-4ef7-b44e-78397646226b",
      "metadata": {
        "id": "04158652-3e37-4ef7-b44e-78397646226b"
      },
      "outputs": [],
      "source": []
    },
    {
      "cell_type": "code",
      "execution_count": null,
      "id": "d5c7c30f-78c7-4927-b4ac-01ae1e5d3f98",
      "metadata": {
        "id": "d5c7c30f-78c7-4927-b4ac-01ae1e5d3f98"
      },
      "outputs": [],
      "source": [
        "SIZE = 640\n",
        "BATCH_SIZE = 32\n",
        "EPOCHS = 20\n",
        "MODEL = \"yolov5s\"\n",
        "WORKERS = 1\n",
        "PROJECT = \"vehicles_open_image_pyimagesearch\"\n",
        "RUN_NAME = f\"{MODEL}_size{SIZE}_epochs{EPOCHS}_batch{BATCH_SIZE}_small\"\n",
        "\n",
        "# Project ismindeki değişken yolov5 klasorunun altına bir subdirectory oluşturur.\n",
        "# Run name değişkeni ise model her run edilişinde modelle alakalı weights,\n",
        "# samplşe input images, metrics, plotlarla alakalı bilgiler içeren subdirectory olusturur."
      ]
    },
    {
      "cell_type": "code",
      "source": [
        "!python train.py --img {SIZE}\\\n",
        "               --batch {BATCH_SIZE}\\\n",
        "               --epochs {EPOCHS}\\\n",
        "               --data ../extracted_files/data.yaml\\\n",
        "               --weights {MODEL}.pt\\\n",
        "               --workers {WORKERS}\\\n",
        "               --project {PROJECT}\\\n",
        "               --name {RUN_NAME}\\\n",
        "               --exist-ok"
      ],
      "metadata": {
        "id": "fJwhDEBDU3S8"
      },
      "id": "fJwhDEBDU3S8",
      "execution_count": null,
      "outputs": []
    }
  ],
  "metadata": {
    "kernelspec": {
      "display_name": "Python 3 (ipykernel)",
      "language": "python",
      "name": "python3"
    },
    "language_info": {
      "codemirror_mode": {
        "name": "ipython",
        "version": 3
      },
      "file_extension": ".py",
      "mimetype": "text/x-python",
      "name": "python",
      "nbconvert_exporter": "python",
      "pygments_lexer": "ipython3",
      "version": "3.11.7"
    },
    "colab": {
      "provenance": []
    }
  },
  "nbformat": 4,
  "nbformat_minor": 5
}